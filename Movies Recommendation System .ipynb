{
 "cells": [
  {
   "cell_type": "markdown",
   "id": "d48f8a15-ded2-4a84-91d1-9bdffc58a65e",
   "metadata": {},
   "source": [
    "## Loading Dataset"
   ]
  },
  {
   "cell_type": "code",
   "execution_count": 4,
   "id": "a9a6b87a-d162-42b4-b65c-5a0881c18316",
   "metadata": {},
   "outputs": [
    {
     "name": "stdout",
     "output_type": "stream",
     "text": [
      "   user_id  movie_id  ratings   timespam\n",
      "0      196       242        3  881250949\n",
      "1      186       302        3  891717742\n",
      "2       22       377        1  878887116\n",
      "3      244        51        2  880606923\n",
      "4      166       346        1  886397596\n"
     ]
    }
   ],
   "source": [
    "import pandas as pd\n",
    "\n",
    "ratings=pd.read_csv('u.data', sep='\\t', names=['user_id', 'movie_id', 'ratings', 'timespam' ])\n",
    "\n",
    "print(ratings.head())\n"
   ]
  },
  {
   "cell_type": "code",
   "execution_count": 10,
   "id": "b1ba15eb-2d98-4da0-8ef4-6203bf034563",
   "metadata": {},
   "outputs": [
    {
     "name": "stdout",
     "output_type": "stream",
     "text": [
      "   movie_id              Title\n",
      "0         1   Toy Story (1995)\n",
      "1         2   GoldenEye (1995)\n",
      "2         3  Four Rooms (1995)\n",
      "3         4  Get Shorty (1995)\n",
      "4         5     Copycat (1995)\n"
     ]
    }
   ],
   "source": [
    "movies=pd.read_csv('u.item',sep='|', encoding='latin-1',names=['movie_id','Title','release_date','video_release_date','url','unknown',\n",
    "                                                               'Actions','Adventure','Animations','Childern','Comdey','Crime',\n",
    "                                                              'Documentary','Drama','Fantasy','Film-Noir','Horror','Musical',\n",
    "                                                              'Mystery','Romance','Sci-fi','Thriller','War','Western'],\n",
    "                  usecols=[0,1])\n",
    "\n",
    "print(movies.head())"
   ]
  },
  {
   "cell_type": "code",
   "execution_count": 11,
   "id": "596acacb-1460-4e72-b220-693eb682379b",
   "metadata": {},
   "outputs": [
    {
     "name": "stdout",
     "output_type": "stream",
     "text": [
      "   user_id  movie_id  ratings   timespam                       Title\n",
      "0      196       242        3  881250949                Kolya (1996)\n",
      "1      186       302        3  891717742    L.A. Confidential (1997)\n",
      "2       22       377        1  878887116         Heavyweights (1994)\n",
      "3      244        51        2  880606923  Legends of the Fall (1994)\n",
      "4      166       346        1  886397596         Jackie Brown (1997)\n"
     ]
    }
   ],
   "source": [
    "ratings_with_titles=ratings.merge(movies,on='movie_id')\n",
    "print(ratings_with_titles.head())"
   ]
  },
  {
   "cell_type": "code",
   "execution_count": 12,
   "id": "d3a8e2ef-cb39-4ab7-b26f-145c0377e255",
   "metadata": {},
   "outputs": [
    {
     "name": "stdout",
     "output_type": "stream",
     "text": [
      "Title    'Til There Was You (1997)  1-900 (1994)  101 Dalmatians (1996)  \\\n",
      "user_id                                                                   \n",
      "1                              NaN           NaN                    2.0   \n",
      "2                              NaN           NaN                    NaN   \n",
      "3                              NaN           NaN                    NaN   \n",
      "4                              NaN           NaN                    NaN   \n",
      "5                              NaN           NaN                    2.0   \n",
      "\n",
      "Title    12 Angry Men (1957)  187 (1997)  2 Days in the Valley (1996)  \\\n",
      "user_id                                                                 \n",
      "1                        5.0         NaN                          NaN   \n",
      "2                        NaN         NaN                          NaN   \n",
      "3                        NaN         2.0                          NaN   \n",
      "4                        NaN         NaN                          NaN   \n",
      "5                        NaN         NaN                          NaN   \n",
      "\n",
      "Title    20,000 Leagues Under the Sea (1954)  2001: A Space Odyssey (1968)  \\\n",
      "user_id                                                                      \n",
      "1                                        3.0                           4.0   \n",
      "2                                        NaN                           NaN   \n",
      "3                                        NaN                           NaN   \n",
      "4                                        NaN                           NaN   \n",
      "5                                        NaN                           4.0   \n",
      "\n",
      "Title    3 Ninjas: High Noon At Mega Mountain (1998)  39 Steps, The (1935)  \\\n",
      "user_id                                                                      \n",
      "1                                                NaN                   NaN   \n",
      "2                                                1.0                   NaN   \n",
      "3                                                NaN                   NaN   \n",
      "4                                                NaN                   NaN   \n",
      "5                                                NaN                   NaN   \n",
      "\n",
      "Title    ...  Yankee Zulu (1994)  Year of the Horse (1997)  \\\n",
      "user_id  ...                                                 \n",
      "1        ...                 NaN                       NaN   \n",
      "2        ...                 NaN                       NaN   \n",
      "3        ...                 NaN                       NaN   \n",
      "4        ...                 NaN                       NaN   \n",
      "5        ...                 NaN                       NaN   \n",
      "\n",
      "Title    You So Crazy (1994)  Young Frankenstein (1974)  Young Guns (1988)  \\\n",
      "user_id                                                                      \n",
      "1                        NaN                        5.0                3.0   \n",
      "2                        NaN                        NaN                NaN   \n",
      "3                        NaN                        NaN                NaN   \n",
      "4                        NaN                        NaN                NaN   \n",
      "5                        NaN                        4.0                NaN   \n",
      "\n",
      "Title    Young Guns II (1990)  Young Poisoner's Handbook, The (1995)  \\\n",
      "user_id                                                                \n",
      "1                         NaN                                    NaN   \n",
      "2                         NaN                                    NaN   \n",
      "3                         NaN                                    NaN   \n",
      "4                         NaN                                    NaN   \n",
      "5                         NaN                                    NaN   \n",
      "\n",
      "Title    Zeus and Roxanne (1997)  unknown  Á köldum klaka (Cold Fever) (1994)  \n",
      "user_id                                                                        \n",
      "1                            NaN      4.0                                 NaN  \n",
      "2                            NaN      NaN                                 NaN  \n",
      "3                            NaN      NaN                                 NaN  \n",
      "4                            NaN      NaN                                 NaN  \n",
      "5                            NaN      4.0                                 NaN  \n",
      "\n",
      "[5 rows x 1664 columns]\n"
     ]
    }
   ],
   "source": [
    "user_item_matrics=ratings_with_titles.pivot_table(index='user_id', columns='Title',values='ratings')\n",
    "\n",
    "print(user_item_matrics.head())"
   ]
  },
  {
   "cell_type": "markdown",
   "id": "d14846e2-1358-4dc0-8020-ddc2a55f6196",
   "metadata": {},
   "source": [
    "## Preprocessing"
   ]
  },
  {
   "cell_type": "markdown",
   "id": "83af2080-e9d6-4be3-a811-67752df95cd2",
   "metadata": {},
   "source": [
    "### Removing the Missing values"
   ]
  },
  {
   "cell_type": "code",
   "execution_count": 13,
   "id": "67137278-425a-4f6a-811d-a023f01c2536",
   "metadata": {},
   "outputs": [
    {
     "name": "stdout",
     "output_type": "stream",
     "text": [
      "user_id     0\n",
      "movie_id    0\n",
      "ratings     0\n",
      "timespam    0\n",
      "dtype: int64\n"
     ]
    }
   ],
   "source": [
    "print(ratings.isnull().sum())"
   ]
  },
  {
   "cell_type": "code",
   "execution_count": 14,
   "id": "4dc62a09-7317-49a3-ad88-c29387121285",
   "metadata": {},
   "outputs": [
    {
     "name": "stdout",
     "output_type": "stream",
     "text": [
      "movie_id    0\n",
      "Title       0\n",
      "dtype: int64\n"
     ]
    }
   ],
   "source": [
    "print(movies.isnull().sum())"
   ]
  },
  {
   "cell_type": "code",
   "execution_count": 16,
   "id": "cd70fccb-1b1c-44a6-aef0-335fc830acfd",
   "metadata": {},
   "outputs": [],
   "source": [
    "ratings.dropna(inplace=True)"
   ]
  },
  {
   "cell_type": "code",
   "execution_count": 17,
   "id": "9d9050f0-47c4-4bd3-a22d-8b9438363636",
   "metadata": {},
   "outputs": [
    {
     "name": "stdout",
     "output_type": "stream",
     "text": [
      "   user_id  movie_id  ratings   timespam\n",
      "0      196       242        3  881250949\n",
      "1      186       302        3  891717742\n",
      "2       22       377        1  878887116\n",
      "3      244        51        2  880606923\n",
      "4      166       346        1  886397596\n"
     ]
    }
   ],
   "source": [
    "print(ratings.head())"
   ]
  },
  {
   "cell_type": "code",
   "execution_count": 18,
   "id": "e4178a05-6af8-445a-beb2-bca3d8a99a91",
   "metadata": {},
   "outputs": [],
   "source": [
    "movies.dropna(inplace=True)"
   ]
  },
  {
   "cell_type": "markdown",
   "id": "825ab69b-6401-4e3c-8b2e-a2646fbddc9b",
   "metadata": {},
   "source": [
    "### Remove the Duplicate Values"
   ]
  },
  {
   "cell_type": "code",
   "execution_count": 20,
   "id": "4a89428c-f85e-47fc-838d-d346dbf53138",
   "metadata": {},
   "outputs": [
    {
     "name": "stdout",
     "output_type": "stream",
     "text": [
      "0\n"
     ]
    }
   ],
   "source": [
    "duplicates=ratings.duplicated(subset=['user_id','movie_id'])\n",
    "\n",
    "print(duplicates.sum())"
   ]
  },
  {
   "cell_type": "code",
   "execution_count": 22,
   "id": "d7cd4c1b-2fed-4b3e-b6bb-dcca08ed0659",
   "metadata": {},
   "outputs": [],
   "source": [
    "ratings.drop_duplicates(subset=['user_id','movie_id'], keep='last', inplace=True)"
   ]
  },
  {
   "cell_type": "markdown",
   "id": "d9edcba1-1f00-450d-8366-657745fb4f68",
   "metadata": {},
   "source": [
    "### Handle NaNs Values"
   ]
  },
  {
   "cell_type": "code",
   "execution_count": 23,
   "id": "a2e8d05b-9e45-4eae-94a9-686e3ab24ec1",
   "metadata": {},
   "outputs": [],
   "source": [
    "#filled the NaNs with 0\n",
    "\n",
    "user_item_matrics_filled=user_item_matrics.fillna(0)\n"
   ]
  },
  {
   "cell_type": "code",
   "execution_count": 26,
   "id": "bd92b6fc-ed4e-4474-b1fe-b107319517b4",
   "metadata": {},
   "outputs": [],
   "source": [
    "#Pearson Correlation & mean Center\n",
    "\n",
    "user_mean=user_item_matrics.mean(axis=0)\n",
    "user_item_matrics_center=user_item_matrics.sub(user_mean,axis=0).fillna(0)\n"
   ]
  },
  {
   "cell_type": "markdown",
   "id": "1ab7ed54-6768-4612-abc5-7a4ab2cd864e",
   "metadata": {},
   "source": [
    "### Remove Rare Movies"
   ]
  },
  {
   "cell_type": "code",
   "execution_count": 27,
   "id": "ea2899b1-b684-4893-8f07-5d0631e62f95",
   "metadata": {},
   "outputs": [],
   "source": [
    "min_ratings=5\n",
    "movies_counts=ratings['movie_id'].value_counts()\n",
    "popular_movies=movies_counts[movies_counts>=min_ratings].index\n",
    "ratings=ratings[ratings['movie_id'].isin(popular_movies"
   ]
  },
  {
   "cell_type": "markdown",
   "id": "27d4ad86-c217-43ef-aa24-767a26c7c9fd",
   "metadata": {},
   "source": [
    "### Remove Inactive User"
   ]
  },
  {
   "cell_type": "code",
   "execution_count": 30,
   "id": "8f11505d-02c8-4ac9-a540-f62dd80d76e9",
   "metadata": {},
   "outputs": [],
   "source": [
    "min_rated_user=5\n",
    "user_counts=ratings['user_id'].value_counts()\n",
    "active_user=user_counts[user_counts>=min_rated_user].index\n",
    "ratings=ratings[ratings['user_id'].isin(active_user)]\n",
    "\n",
    "\n"
   ]
  },
  {
   "cell_type": "markdown",
   "id": "be283348-a1f9-4cf0-9908-8ca6d644ac0d",
   "metadata": {},
   "source": [
    "### Merge the new ratings data with the ratings_with_titles"
   ]
  },
  {
   "cell_type": "code",
   "execution_count": 34,
   "id": "a64927b0-a4bc-46ee-8bce-7b75d594d665",
   "metadata": {},
   "outputs": [],
   "source": [
    "ratings_with_titles=ratings.merge(movies,on='movie_id')\n",
    "\n"
   ]
  },
  {
   "cell_type": "code",
   "execution_count": 41,
   "id": "88961e98-c668-4988-8e78-c6830d6e96bf",
   "metadata": {},
   "outputs": [
    {
     "name": "stdout",
     "output_type": "stream",
     "text": [
      "Title    'Til There Was You (1997)  1-900 (1994)  101 Dalmatians (1996)  \\\n",
      "user_id                                                                   \n",
      "1                              0.0           0.0                    2.0   \n",
      "2                              0.0           0.0                    0.0   \n",
      "3                              0.0           0.0                    0.0   \n",
      "4                              0.0           0.0                    0.0   \n",
      "5                              0.0           0.0                    2.0   \n",
      "\n",
      "Title    12 Angry Men (1957)  187 (1997)  2 Days in the Valley (1996)  \\\n",
      "user_id                                                                 \n",
      "1                        5.0         0.0                          0.0   \n",
      "2                        0.0         0.0                          0.0   \n",
      "3                        0.0         2.0                          0.0   \n",
      "4                        0.0         0.0                          0.0   \n",
      "5                        0.0         0.0                          0.0   \n",
      "\n",
      "Title    20,000 Leagues Under the Sea (1954)  2001: A Space Odyssey (1968)  \\\n",
      "user_id                                                                      \n",
      "1                                        3.0                           4.0   \n",
      "2                                        0.0                           0.0   \n",
      "3                                        0.0                           0.0   \n",
      "4                                        0.0                           0.0   \n",
      "5                                        0.0                           4.0   \n",
      "\n",
      "Title    3 Ninjas: High Noon At Mega Mountain (1998)  39 Steps, The (1935)  \\\n",
      "user_id                                                                      \n",
      "1                                                0.0                   0.0   \n",
      "2                                                1.0                   0.0   \n",
      "3                                                0.0                   0.0   \n",
      "4                                                0.0                   0.0   \n",
      "5                                                0.0                   0.0   \n",
      "\n",
      "Title    ...  World of Apu, The (Apur Sansar) (1959)  \\\n",
      "user_id  ...                                           \n",
      "1        ...                                     0.0   \n",
      "2        ...                                     0.0   \n",
      "3        ...                                     0.0   \n",
      "4        ...                                     0.0   \n",
      "5        ...                                     0.0   \n",
      "\n",
      "Title    Wrong Trousers, The (1993)  Wyatt Earp (1994)  \\\n",
      "user_id                                                  \n",
      "1                               5.0                0.0   \n",
      "2                               0.0                0.0   \n",
      "3                               0.0                0.0   \n",
      "4                               0.0                0.0   \n",
      "5                               5.0                0.0   \n",
      "\n",
      "Title    Year of the Horse (1997)  Young Frankenstein (1974)  \\\n",
      "user_id                                                        \n",
      "1                             0.0                        5.0   \n",
      "2                             0.0                        0.0   \n",
      "3                             0.0                        0.0   \n",
      "4                             0.0                        0.0   \n",
      "5                             0.0                        4.0   \n",
      "\n",
      "Title    Young Guns (1988)  Young Guns II (1990)  \\\n",
      "user_id                                            \n",
      "1                      3.0                   0.0   \n",
      "2                      0.0                   0.0   \n",
      "3                      0.0                   0.0   \n",
      "4                      0.0                   0.0   \n",
      "5                      0.0                   0.0   \n",
      "\n",
      "Title    Young Poisoner's Handbook, The (1995)  Zeus and Roxanne (1997)  \\\n",
      "user_id                                                                   \n",
      "1                                          0.0                      0.0   \n",
      "2                                          0.0                      0.0   \n",
      "3                                          0.0                      0.0   \n",
      "4                                          0.0                      0.0   \n",
      "5                                          0.0                      0.0   \n",
      "\n",
      "Title    unknown  \n",
      "user_id           \n",
      "1            4.0  \n",
      "2            0.0  \n",
      "3            0.0  \n",
      "4            0.0  \n",
      "5            4.0  \n",
      "\n",
      "[5 rows x 1340 columns]\n"
     ]
    }
   ],
   "source": [
    "## user_item_matrics_filled with ratings_with_titles\n",
    "\n",
    "user_item_matrics=ratings_with_titles.pivot_table(index='user_id' , columns='Title' , values='ratings')\n",
    "\n",
    "user_item_matrics=user_item_matrics.fillna(0)\n",
    "\n",
    "print(user_item_matrics.head())"
   ]
  },
  {
   "cell_type": "markdown",
   "id": "bdccb11d-31d9-4671-a1de-eba194c949e0",
   "metadata": {},
   "source": [
    "### Compute User Similarity User"
   ]
  },
  {
   "cell_type": "code",
   "execution_count": 45,
   "id": "8459d205-87e0-41b2-a964-eb3e62dc587a",
   "metadata": {},
   "outputs": [
    {
     "name": "stdout",
     "output_type": "stream",
     "text": [
      "user_id       1         2         3         4         5         6         7    \\\n",
      "user_id                                                                         \n",
      "1        1.000000  0.169473  0.048542  0.064766  0.380984  0.431048  0.447028   \n",
      "2        0.169473  1.000000  0.113393  0.179694  0.073644  0.242106  0.109221   \n",
      "3        0.048542  0.113393  1.000000  0.349781  0.021598  0.074018  0.067805   \n",
      "4        0.064766  0.179694  0.349781  1.000000  0.031813  0.068431  0.092027   \n",
      "5        0.380984  0.073644  0.021598  0.031813  1.000000  0.238703  0.376967   \n",
      "\n",
      "user_id       8         9         10   ...       934       935       936  \\\n",
      "user_id                                ...                                 \n",
      "1        0.321096  0.078634  0.379850  ...  0.373396  0.120240  0.274454   \n",
      "2        0.104257  0.162470  0.161664  ...  0.147095  0.310661  0.368342   \n",
      "3        0.084419  0.062039  0.066377  ...  0.033885  0.043453  0.169447   \n",
      "4        0.188060  0.101284  0.061007  ...  0.054615  0.036784  0.135463   \n",
      "5        0.249000  0.056863  0.201972  ...  0.340279  0.080603  0.096626   \n",
      "\n",
      "user_id       937       938       939       940       941       942       943  \n",
      "user_id                                                                        \n",
      "1        0.193957  0.198578  0.119099  0.316065  0.149560  0.182189  0.401516  \n",
      "2        0.410725  0.322713  0.231096  0.228793  0.162911  0.175273  0.106949  \n",
      "3        0.071288  0.126278  0.026758  0.164539  0.102899  0.136757  0.027045  \n",
      "4        0.196561  0.146058  0.030202  0.196858  0.152041  0.171538  0.058872  \n",
      "5        0.081076  0.148649  0.071632  0.240023  0.139635  0.153843  0.314668  \n",
      "\n",
      "[5 rows x 943 columns]\n"
     ]
    }
   ],
   "source": [
    "from sklearn.metrics.pairwise import cosine_similarity\n",
    "\n",
    "similarity_matrics=cosine_similarity(user_item_matrics)\n",
    "\n",
    "similarity_matrics_df=pd.DataFrame(similarity_matrics,index=user_item_matrics.index , columns=user_item_matrics.index)\n",
    "\n",
    "print(similarity_matrics_df.head())"
   ]
  },
  {
   "cell_type": "markdown",
   "id": "762302e3-f23e-4178-9e3a-41f628a93fbd",
   "metadata": {},
   "source": [
    "### Recommend top rated unseen movies"
   ]
  },
  {
   "cell_type": "code",
   "execution_count": 79,
   "id": "9ee48171-d9d9-4812-af7a-d28065feb98a",
   "metadata": {},
   "outputs": [
    {
     "name": "stdout",
     "output_type": "stream",
     "text": [
      "Title\n",
      "Amistad (1997)                4.015391\n",
      "Lone Star (1996)              3.244770\n",
      "Michael Collins (1996)        2.336432\n",
      "Spitfire Grill, The (1996)    2.307649\n",
      "Game, The (1997)              2.049479\n",
      "dtype: float64\n"
     ]
    }
   ],
   "source": [
    "import numpy as np\n",
    "\n",
    "def recommend_movies(user_id,user_item_matrics,similarity_matrics_df,k_neighbor=5,top_n=5):\n",
    "    similar_user=similarity_matrics_df.loc[user_id].sort_values(ascending=False).drop(user_id).head(k_neighbor)\n",
    "    similar_users_ratings = user_item_matrics.loc[similar_user.index]\n",
    "    weight_sum=np.dot(similar_user, similar_users_ratings)\n",
    "    sum_of_weights=similar_user.sum()\n",
    "    predicted_ratings = pd.Series(weight_sum / sum_of_weights, index=user_item_matrics.columns)\n",
    "    rated_movies=user_item_matrics.loc[user_id]\n",
    "    unrated_movies=rated_movies[rated_movies==0].index\n",
    "    recommendations=predicted_ratings[unrated_movies].sort_values(ascending=False).head(top_n)\n",
    "\n",
    "    return recommendations\n",
    "\n",
    "print(recommend_movies(2,user_item_matrics,similarity_matrics_df))"
   ]
  },
  {
   "cell_type": "code",
   "execution_count": 86,
   "id": "e10c91fc-5132-448e-859d-1eb69c2e35be",
   "metadata": {},
   "outputs": [
    {
     "name": "stdout",
     "output_type": "stream",
     "text": [
      "Hidden movies: ['Star Trek VI: The Undiscovered Country (1991)', 'Godfather: Part II, The (1974)', 'Butch Cassidy and the Sundance Kid (1969)']\n",
      "Recommended movies: ['Godfather: Part II, The (1974)', 'Die Hard 2 (1990)', 'Alien 3 (1992)', 'Titanic (1997)', 'Top Gun (1986)']\n",
      "Intersection: {'Godfather: Part II, The (1974)'}\n",
      "Precision : 0.20\n"
     ]
    }
   ],
   "source": [
    "import random\n",
    "\n",
    "def precision_at_k_hidden(user_id, k, user_item_matrix, similarity_matrix, threshold=3.5, hide_n=3):\n",
    "    \n",
    "    relevant_movies = user_item_matrix.loc[user_id]\n",
    "    relevant_movies = relevant_movies[relevant_movies >= threshold].index.tolist()\n",
    "    \n",
    "    # Step 2: Randomly select some movies to hide\n",
    "    if len(relevant_movies) < hide_n:\n",
    "        return \"Not enough movies to hide\"\n",
    "    hidden_movies = random.sample(relevant_movies, hide_n)\n",
    "    \n",
    "    # Step 3: Create a copy of the matrix & hide ratings\n",
    "    modified_matrix = user_item_matrix.copy()\n",
    "    modified_matrix.loc[user_id, hidden_movies] = 0  # Hide ratings\n",
    "    \n",
    "    # Step 4: Get recommendations\n",
    "    recs = recommend_movies(user_id, modified_matrix, similarity_matrix, top_n=k)\n",
    "    \n",
    "    # Step 5: Check overlap (how many hidden movies appear in recommendations)\n",
    "    recommended_movies = recs.index[:k]\n",
    "    intersection = set(recommended_movies) & set(hidden_movies)\n",
    "    \n",
    "    precision = len(intersection) / k\n",
    "    \n",
    "    print(f\"Hidden movies: {hidden_movies}\")\n",
    "    print(f\"Recommended movies: {recommended_movies.tolist()}\")\n",
    "    print(f\"Intersection: {intersection}\")\n",
    "    \n",
    "    return precision\n",
    "\n",
    "# Test for User 8\n",
    "precision = precision_at_k_hidden(8, k=5, user_item_matrix=user_item_matrics, similarity_matrix=similarity_matrics_df)\n",
    "print(f\"Precision : {precision:.2f}\")\n",
    "\n"
   ]
  },
  {
   "cell_type": "code",
   "execution_count": null,
   "id": "f2a9aa47-d15b-4adf-b7e8-65127fc5a608",
   "metadata": {},
   "outputs": [],
   "source": []
  }
 ],
 "metadata": {
  "kernelspec": {
   "display_name": "Python 3 (ipykernel)",
   "language": "python",
   "name": "python3"
  },
  "language_info": {
   "codemirror_mode": {
    "name": "ipython",
    "version": 3
   },
   "file_extension": ".py",
   "mimetype": "text/x-python",
   "name": "python",
   "nbconvert_exporter": "python",
   "pygments_lexer": "ipython3",
   "version": "3.12.7"
  }
 },
 "nbformat": 4,
 "nbformat_minor": 5
}
